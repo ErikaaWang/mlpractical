{
 "cells": [
  {
   "cell_type": "code",
   "execution_count": 1,
   "metadata": {},
   "outputs": [
    {
     "name": "stdout",
     "output_type": "stream",
     "text": [
      "KeysView(<numpy.lib.npyio.NpzFile object at 0x10ce03820>)\n",
      "KeysView(<numpy.lib.npyio.NpzFile object at 0x10ce03a90>)\n"
     ]
    }
   ],
   "source": [
    "import numpy as np\n",
    "import logging\n",
    "from mlp.data_providers import MNISTDataProvider, EMNISTDataProvider\n",
    "\n",
    "# Seed a random number generator\n",
    "seed = 11102019 \n",
    "rng = np.random.RandomState(seed)\n",
    "batch_size = 100\n",
    "# Set up a logger object to print info about the training run to stdout\n",
    "logger = logging.getLogger()\n",
    "logger.setLevel(logging.INFO)\n",
    "logger.handlers = [logging.StreamHandler()]\n",
    "\n",
    "# Create data provider objects for the MNIST data set\n",
    "train_data = EMNISTDataProvider('train', batch_size=batch_size, rng=rng)\n",
    "valid_data = EMNISTDataProvider('valid', batch_size=batch_size, rng=rng)"
   ]
  },
  {
   "cell_type": "code",
   "execution_count": 2,
   "metadata": {},
   "outputs": [
    {
     "data": {
      "application/vnd.jupyter.widget-view+json": {
       "model_id": "d3f5d265eccc4365ade15fc742f28646",
       "version_major": 2,
       "version_minor": 0
      },
      "text/plain": [
       "  0%|          | 0/100 [00:00<?, ?it/s]"
      ]
     },
     "metadata": {},
     "output_type": "display_data"
    },
    {
     "data": {
      "application/vnd.jupyter.widget-view+json": {
       "model_id": "7ddc4284f0454ff3bbf4cdcf5990e074",
       "version_major": 2,
       "version_minor": 0
      },
      "text/plain": [
       "  0%|          | 0/1000 [00:00<?, ?it/s]"
      ]
     },
     "metadata": {},
     "output_type": "display_data"
    },
    {
     "name": "stderr",
     "output_type": "stream",
     "text": [
      "Epoch 1: 8.2s to complete\n",
      "    error(train)=1.41e+00, acc(train)=6.12e-01, error(valid)=1.41e+00, acc(valid)=6.12e-01\n"
     ]
    },
    {
     "data": {
      "application/vnd.jupyter.widget-view+json": {
       "model_id": "fd47ec43f0d4493796d3086b5c36ed4f",
       "version_major": 2,
       "version_minor": 0
      },
      "text/plain": [
       "  0%|          | 0/1000 [00:00<?, ?it/s]"
      ]
     },
     "metadata": {},
     "output_type": "display_data"
    },
    {
     "name": "stderr",
     "output_type": "stream",
     "text": [
      "Epoch 2: 6.8s to complete\n",
      "    error(train)=1.15e+00, acc(train)=6.73e-01, error(valid)=1.16e+00, acc(valid)=6.71e-01\n"
     ]
    },
    {
     "data": {
      "application/vnd.jupyter.widget-view+json": {
       "model_id": "4ba9a3253edf4a899212ee9815140151",
       "version_major": 2,
       "version_minor": 0
      },
      "text/plain": [
       "  0%|          | 0/1000 [00:00<?, ?it/s]"
      ]
     },
     "metadata": {},
     "output_type": "display_data"
    },
    {
     "name": "stderr",
     "output_type": "stream",
     "text": [
      "Epoch 3: 5.0s to complete\n",
      "    error(train)=1.02e+00, acc(train)=7.08e-01, error(valid)=1.03e+00, acc(valid)=7.04e-01\n"
     ]
    },
    {
     "data": {
      "application/vnd.jupyter.widget-view+json": {
       "model_id": "dc287f4420b1494194d024a9c475afa3",
       "version_major": 2,
       "version_minor": 0
      },
      "text/plain": [
       "  0%|          | 0/1000 [00:00<?, ?it/s]"
      ]
     },
     "metadata": {},
     "output_type": "display_data"
    },
    {
     "name": "stderr",
     "output_type": "stream",
     "text": [
      "Epoch 4: 5.0s to complete\n",
      "    error(train)=9.12e-01, acc(train)=7.34e-01, error(valid)=9.24e-01, acc(valid)=7.30e-01\n"
     ]
    },
    {
     "data": {
      "application/vnd.jupyter.widget-view+json": {
       "model_id": "a9e83062fc524417a67d7b3f3ab28d89",
       "version_major": 2,
       "version_minor": 0
      },
      "text/plain": [
       "  0%|          | 0/1000 [00:00<?, ?it/s]"
      ]
     },
     "metadata": {},
     "output_type": "display_data"
    },
    {
     "name": "stderr",
     "output_type": "stream",
     "text": [
      "Epoch 5: 4.7s to complete\n",
      "    error(train)=8.31e-01, acc(train)=7.54e-01, error(valid)=8.45e-01, acc(valid)=7.49e-01\n"
     ]
    },
    {
     "data": {
      "application/vnd.jupyter.widget-view+json": {
       "model_id": "6564145744154884b2631bb8289aa4e8",
       "version_major": 2,
       "version_minor": 0
      },
      "text/plain": [
       "  0%|          | 0/1000 [00:00<?, ?it/s]"
      ]
     },
     "metadata": {},
     "output_type": "display_data"
    },
    {
     "name": "stderr",
     "output_type": "stream",
     "text": [
      "Epoch 6: 6.5s to complete\n",
      "    error(train)=7.72e-01, acc(train)=7.68e-01, error(valid)=7.85e-01, acc(valid)=7.64e-01\n"
     ]
    },
    {
     "data": {
      "application/vnd.jupyter.widget-view+json": {
       "model_id": "014d972069c040b98afa618ca5247ad4",
       "version_major": 2,
       "version_minor": 0
      },
      "text/plain": [
       "  0%|          | 0/1000 [00:00<?, ?it/s]"
      ]
     },
     "metadata": {},
     "output_type": "display_data"
    },
    {
     "name": "stderr",
     "output_type": "stream",
     "text": [
      "Epoch 7: 10.1s to complete\n",
      "    error(train)=7.27e-01, acc(train)=7.80e-01, error(valid)=7.44e-01, acc(valid)=7.75e-01\n"
     ]
    },
    {
     "data": {
      "application/vnd.jupyter.widget-view+json": {
       "model_id": "f2d19d9086744b26aa7bf7711314b09a",
       "version_major": 2,
       "version_minor": 0
      },
      "text/plain": [
       "  0%|          | 0/1000 [00:00<?, ?it/s]"
      ]
     },
     "metadata": {},
     "output_type": "display_data"
    },
    {
     "name": "stderr",
     "output_type": "stream",
     "text": [
      "Epoch 8: 8.3s to complete\n",
      "    error(train)=6.85e-01, acc(train)=7.89e-01, error(valid)=7.04e-01, acc(valid)=7.80e-01\n"
     ]
    },
    {
     "data": {
      "application/vnd.jupyter.widget-view+json": {
       "model_id": "e377b0e5fa58488e8dc3c2efe3adcdd6",
       "version_major": 2,
       "version_minor": 0
      },
      "text/plain": [
       "  0%|          | 0/1000 [00:00<?, ?it/s]"
      ]
     },
     "metadata": {},
     "output_type": "display_data"
    },
    {
     "name": "stderr",
     "output_type": "stream",
     "text": [
      "Epoch 9: 7.6s to complete\n",
      "    error(train)=6.56e-01, acc(train)=7.96e-01, error(valid)=6.76e-01, acc(valid)=7.88e-01\n"
     ]
    },
    {
     "data": {
      "application/vnd.jupyter.widget-view+json": {
       "model_id": "ecdd11ce044e46948ff92b2fb5be7205",
       "version_major": 2,
       "version_minor": 0
      },
      "text/plain": [
       "  0%|          | 0/1000 [00:00<?, ?it/s]"
      ]
     },
     "metadata": {},
     "output_type": "display_data"
    },
    {
     "name": "stderr",
     "output_type": "stream",
     "text": [
      "Epoch 10: 21.4s to complete\n",
      "    error(train)=6.27e-01, acc(train)=8.05e-01, error(valid)=6.51e-01, acc(valid)=7.98e-01\n"
     ]
    },
    {
     "data": {
      "application/vnd.jupyter.widget-view+json": {
       "model_id": "0898e491305e4d0f8b2f62f51c9228ac",
       "version_major": 2,
       "version_minor": 0
      },
      "text/plain": [
       "  0%|          | 0/1000 [00:00<?, ?it/s]"
      ]
     },
     "metadata": {},
     "output_type": "display_data"
    },
    {
     "name": "stderr",
     "output_type": "stream",
     "text": [
      "Epoch 11: 9.7s to complete\n",
      "    error(train)=6.02e-01, acc(train)=8.11e-01, error(valid)=6.27e-01, acc(valid)=8.04e-01\n"
     ]
    },
    {
     "data": {
      "application/vnd.jupyter.widget-view+json": {
       "model_id": "f52959a032bb450491f2a512da8e448f",
       "version_major": 2,
       "version_minor": 0
      },
      "text/plain": [
       "  0%|          | 0/1000 [00:00<?, ?it/s]"
      ]
     },
     "metadata": {},
     "output_type": "display_data"
    },
    {
     "name": "stderr",
     "output_type": "stream",
     "text": [
      "Epoch 12: 6.9s to complete\n",
      "    error(train)=5.81e-01, acc(train)=8.16e-01, error(valid)=6.08e-01, acc(valid)=8.07e-01\n"
     ]
    },
    {
     "data": {
      "application/vnd.jupyter.widget-view+json": {
       "model_id": "f85a4f2edfaa4e0781d7d62fc71183fa",
       "version_major": 2,
       "version_minor": 0
      },
      "text/plain": [
       "  0%|          | 0/1000 [00:00<?, ?it/s]"
      ]
     },
     "metadata": {},
     "output_type": "display_data"
    },
    {
     "name": "stderr",
     "output_type": "stream",
     "text": [
      "Epoch 13: 5.8s to complete\n",
      "    error(train)=5.65e-01, acc(train)=8.21e-01, error(valid)=5.96e-01, acc(valid)=8.11e-01\n"
     ]
    },
    {
     "data": {
      "application/vnd.jupyter.widget-view+json": {
       "model_id": "7afdd90c9f9d44f09c4f3679b5998d29",
       "version_major": 2,
       "version_minor": 0
      },
      "text/plain": [
       "  0%|          | 0/1000 [00:00<?, ?it/s]"
      ]
     },
     "metadata": {},
     "output_type": "display_data"
    },
    {
     "name": "stderr",
     "output_type": "stream",
     "text": [
      "Epoch 14: 6.0s to complete\n",
      "    error(train)=5.49e-01, acc(train)=8.23e-01, error(valid)=5.82e-01, acc(valid)=8.14e-01\n"
     ]
    },
    {
     "data": {
      "application/vnd.jupyter.widget-view+json": {
       "model_id": "7d634f2033854957967023e77e88a91b",
       "version_major": 2,
       "version_minor": 0
      },
      "text/plain": [
       "  0%|          | 0/1000 [00:00<?, ?it/s]"
      ]
     },
     "metadata": {},
     "output_type": "display_data"
    },
    {
     "name": "stderr",
     "output_type": "stream",
     "text": [
      "Epoch 15: 6.5s to complete\n",
      "    error(train)=5.38e-01, acc(train)=8.28e-01, error(valid)=5.73e-01, acc(valid)=8.17e-01\n"
     ]
    },
    {
     "data": {
      "application/vnd.jupyter.widget-view+json": {
       "model_id": "2e97589d76ba4a05ad3059c740d17050",
       "version_major": 2,
       "version_minor": 0
      },
      "text/plain": [
       "  0%|          | 0/1000 [00:00<?, ?it/s]"
      ]
     },
     "metadata": {},
     "output_type": "display_data"
    },
    {
     "name": "stderr",
     "output_type": "stream",
     "text": [
      "Epoch 16: 6.4s to complete\n",
      "    error(train)=5.20e-01, acc(train)=8.33e-01, error(valid)=5.58e-01, acc(valid)=8.21e-01\n"
     ]
    },
    {
     "data": {
      "application/vnd.jupyter.widget-view+json": {
       "model_id": "1b049ec4b4ac4a22bd6f6be7f0da4926",
       "version_major": 2,
       "version_minor": 0
      },
      "text/plain": [
       "  0%|          | 0/1000 [00:00<?, ?it/s]"
      ]
     },
     "metadata": {},
     "output_type": "display_data"
    },
    {
     "name": "stderr",
     "output_type": "stream",
     "text": [
      "Epoch 17: 6.7s to complete\n",
      "    error(train)=5.14e-01, acc(train)=8.33e-01, error(valid)=5.55e-01, acc(valid)=8.21e-01\n"
     ]
    },
    {
     "data": {
      "application/vnd.jupyter.widget-view+json": {
       "model_id": "15c4b320c2d74a8cbb4b357b9adc1aa9",
       "version_major": 2,
       "version_minor": 0
      },
      "text/plain": [
       "  0%|          | 0/1000 [00:00<?, ?it/s]"
      ]
     },
     "metadata": {},
     "output_type": "display_data"
    },
    {
     "name": "stderr",
     "output_type": "stream",
     "text": [
      "Epoch 18: 6.0s to complete\n",
      "    error(train)=4.97e-01, acc(train)=8.38e-01, error(valid)=5.40e-01, acc(valid)=8.26e-01\n"
     ]
    },
    {
     "data": {
      "application/vnd.jupyter.widget-view+json": {
       "model_id": "ff5435182cb54e2abf743f835372eea7",
       "version_major": 2,
       "version_minor": 0
      },
      "text/plain": [
       "  0%|          | 0/1000 [00:00<?, ?it/s]"
      ]
     },
     "metadata": {},
     "output_type": "display_data"
    },
    {
     "name": "stderr",
     "output_type": "stream",
     "text": [
      "Epoch 19: 6.2s to complete\n",
      "    error(train)=4.88e-01, acc(train)=8.41e-01, error(valid)=5.34e-01, acc(valid)=8.28e-01\n"
     ]
    },
    {
     "data": {
      "application/vnd.jupyter.widget-view+json": {
       "model_id": "43f7960a0d4547f8b58f0a6744ade81b",
       "version_major": 2,
       "version_minor": 0
      },
      "text/plain": [
       "  0%|          | 0/1000 [00:00<?, ?it/s]"
      ]
     },
     "metadata": {},
     "output_type": "display_data"
    },
    {
     "name": "stderr",
     "output_type": "stream",
     "text": [
      "Epoch 20: 6.7s to complete\n",
      "    error(train)=4.78e-01, acc(train)=8.44e-01, error(valid)=5.25e-01, acc(valid)=8.29e-01\n"
     ]
    },
    {
     "data": {
      "application/vnd.jupyter.widget-view+json": {
       "model_id": "0ec0d97bef0f44a391aa9af679f9ad4f",
       "version_major": 2,
       "version_minor": 0
      },
      "text/plain": [
       "  0%|          | 0/1000 [00:00<?, ?it/s]"
      ]
     },
     "metadata": {},
     "output_type": "display_data"
    },
    {
     "name": "stderr",
     "output_type": "stream",
     "text": [
      "Epoch 21: 6.6s to complete\n",
      "    error(train)=4.69e-01, acc(train)=8.47e-01, error(valid)=5.21e-01, acc(valid)=8.33e-01\n"
     ]
    },
    {
     "data": {
      "application/vnd.jupyter.widget-view+json": {
       "model_id": "ed5c788a0b294feb81115a9f2d79c3e3",
       "version_major": 2,
       "version_minor": 0
      },
      "text/plain": [
       "  0%|          | 0/1000 [00:00<?, ?it/s]"
      ]
     },
     "metadata": {},
     "output_type": "display_data"
    },
    {
     "name": "stderr",
     "output_type": "stream",
     "text": [
      "Epoch 22: 6.7s to complete\n",
      "    error(train)=4.62e-01, acc(train)=8.48e-01, error(valid)=5.15e-01, acc(valid)=8.33e-01\n"
     ]
    },
    {
     "data": {
      "application/vnd.jupyter.widget-view+json": {
       "model_id": "67093e1f4f5d4f40a39838dcddf856ea",
       "version_major": 2,
       "version_minor": 0
      },
      "text/plain": [
       "  0%|          | 0/1000 [00:00<?, ?it/s]"
      ]
     },
     "metadata": {},
     "output_type": "display_data"
    },
    {
     "name": "stderr",
     "output_type": "stream",
     "text": [
      "Epoch 23: 6.2s to complete\n",
      "    error(train)=4.53e-01, acc(train)=8.51e-01, error(valid)=5.09e-01, acc(valid)=8.35e-01\n"
     ]
    },
    {
     "data": {
      "application/vnd.jupyter.widget-view+json": {
       "model_id": "29146bf674214fb8b59625b1e5674e3e",
       "version_major": 2,
       "version_minor": 0
      },
      "text/plain": [
       "  0%|          | 0/1000 [00:00<?, ?it/s]"
      ]
     },
     "metadata": {},
     "output_type": "display_data"
    },
    {
     "name": "stderr",
     "output_type": "stream",
     "text": [
      "Epoch 24: 5.5s to complete\n",
      "    error(train)=4.47e-01, acc(train)=8.52e-01, error(valid)=5.05e-01, acc(valid)=8.35e-01\n"
     ]
    },
    {
     "data": {
      "application/vnd.jupyter.widget-view+json": {
       "model_id": "1f23a55a7a2d4ea4bd9b0be26af32359",
       "version_major": 2,
       "version_minor": 0
      },
      "text/plain": [
       "  0%|          | 0/1000 [00:00<?, ?it/s]"
      ]
     },
     "metadata": {},
     "output_type": "display_data"
    },
    {
     "name": "stderr",
     "output_type": "stream",
     "text": [
      "Epoch 25: 4.7s to complete\n",
      "    error(train)=4.39e-01, acc(train)=8.54e-01, error(valid)=4.99e-01, acc(valid)=8.37e-01\n"
     ]
    },
    {
     "data": {
      "application/vnd.jupyter.widget-view+json": {
       "model_id": "27dbb56a34f34bd992c3889eba4dbd8f",
       "version_major": 2,
       "version_minor": 0
      },
      "text/plain": [
       "  0%|          | 0/1000 [00:00<?, ?it/s]"
      ]
     },
     "metadata": {},
     "output_type": "display_data"
    },
    {
     "name": "stderr",
     "output_type": "stream",
     "text": [
      "Epoch 26: 4.9s to complete\n",
      "    error(train)=4.31e-01, acc(train)=8.57e-01, error(valid)=4.93e-01, acc(valid)=8.38e-01\n"
     ]
    },
    {
     "data": {
      "application/vnd.jupyter.widget-view+json": {
       "model_id": "4485b9f9076c4833a43f4a1f3c5090e3",
       "version_major": 2,
       "version_minor": 0
      },
      "text/plain": [
       "  0%|          | 0/1000 [00:00<?, ?it/s]"
      ]
     },
     "metadata": {},
     "output_type": "display_data"
    },
    {
     "name": "stderr",
     "output_type": "stream",
     "text": [
      "Epoch 27: 4.7s to complete\n",
      "    error(train)=4.30e-01, acc(train)=8.56e-01, error(valid)=4.95e-01, acc(valid)=8.38e-01\n"
     ]
    },
    {
     "data": {
      "application/vnd.jupyter.widget-view+json": {
       "model_id": "efc691a2d4b041a09ab1ca813350e501",
       "version_major": 2,
       "version_minor": 0
      },
      "text/plain": [
       "  0%|          | 0/1000 [00:00<?, ?it/s]"
      ]
     },
     "metadata": {},
     "output_type": "display_data"
    },
    {
     "name": "stderr",
     "output_type": "stream",
     "text": [
      "Epoch 28: 4.9s to complete\n",
      "    error(train)=4.21e-01, acc(train)=8.60e-01, error(valid)=4.87e-01, acc(valid)=8.40e-01\n"
     ]
    },
    {
     "data": {
      "application/vnd.jupyter.widget-view+json": {
       "model_id": "1aff261aa534417bb825783166d54342",
       "version_major": 2,
       "version_minor": 0
      },
      "text/plain": [
       "  0%|          | 0/1000 [00:00<?, ?it/s]"
      ]
     },
     "metadata": {},
     "output_type": "display_data"
    },
    {
     "name": "stderr",
     "output_type": "stream",
     "text": [
      "Epoch 29: 4.7s to complete\n",
      "    error(train)=4.19e-01, acc(train)=8.61e-01, error(valid)=4.88e-01, acc(valid)=8.39e-01\n"
     ]
    },
    {
     "data": {
      "application/vnd.jupyter.widget-view+json": {
       "model_id": "188537e9e3774767a12753c839003636",
       "version_major": 2,
       "version_minor": 0
      },
      "text/plain": [
       "  0%|          | 0/1000 [00:00<?, ?it/s]"
      ]
     },
     "metadata": {},
     "output_type": "display_data"
    },
    {
     "name": "stderr",
     "output_type": "stream",
     "text": [
      "Epoch 30: 4.8s to complete\n",
      "    error(train)=4.10e-01, acc(train)=8.63e-01, error(valid)=4.81e-01, acc(valid)=8.42e-01\n"
     ]
    },
    {
     "data": {
      "application/vnd.jupyter.widget-view+json": {
       "model_id": "39003596006b45d19b50062b32fdf3d4",
       "version_major": 2,
       "version_minor": 0
      },
      "text/plain": [
       "  0%|          | 0/1000 [00:00<?, ?it/s]"
      ]
     },
     "metadata": {},
     "output_type": "display_data"
    },
    {
     "name": "stderr",
     "output_type": "stream",
     "text": [
      "Epoch 31: 4.8s to complete\n",
      "    error(train)=4.04e-01, acc(train)=8.64e-01, error(valid)=4.77e-01, acc(valid)=8.42e-01\n"
     ]
    },
    {
     "data": {
      "application/vnd.jupyter.widget-view+json": {
       "model_id": "28bea391f5df49fbad5c541a2db5d55b",
       "version_major": 2,
       "version_minor": 0
      },
      "text/plain": [
       "  0%|          | 0/1000 [00:00<?, ?it/s]"
      ]
     },
     "metadata": {},
     "output_type": "display_data"
    },
    {
     "name": "stderr",
     "output_type": "stream",
     "text": [
      "Epoch 32: 4.9s to complete\n",
      "    error(train)=3.99e-01, acc(train)=8.66e-01, error(valid)=4.76e-01, acc(valid)=8.42e-01\n"
     ]
    },
    {
     "data": {
      "application/vnd.jupyter.widget-view+json": {
       "model_id": "a3fee97f0b214b4e875518c60aecf23a",
       "version_major": 2,
       "version_minor": 0
      },
      "text/plain": [
       "  0%|          | 0/1000 [00:00<?, ?it/s]"
      ]
     },
     "metadata": {},
     "output_type": "display_data"
    },
    {
     "name": "stderr",
     "output_type": "stream",
     "text": [
      "Epoch 33: 4.8s to complete\n",
      "    error(train)=3.95e-01, acc(train)=8.68e-01, error(valid)=4.74e-01, acc(valid)=8.43e-01\n"
     ]
    },
    {
     "data": {
      "application/vnd.jupyter.widget-view+json": {
       "model_id": "2f003c14e1564d5d89f863300a56c2cd",
       "version_major": 2,
       "version_minor": 0
      },
      "text/plain": [
       "  0%|          | 0/1000 [00:00<?, ?it/s]"
      ]
     },
     "metadata": {},
     "output_type": "display_data"
    },
    {
     "name": "stderr",
     "output_type": "stream",
     "text": [
      "Epoch 34: 4.8s to complete\n",
      "    error(train)=3.92e-01, acc(train)=8.68e-01, error(valid)=4.71e-01, acc(valid)=8.45e-01\n"
     ]
    },
    {
     "data": {
      "application/vnd.jupyter.widget-view+json": {
       "model_id": "d92feb795d0349f292cb698610a4829b",
       "version_major": 2,
       "version_minor": 0
      },
      "text/plain": [
       "  0%|          | 0/1000 [00:00<?, ?it/s]"
      ]
     },
     "metadata": {},
     "output_type": "display_data"
    },
    {
     "name": "stderr",
     "output_type": "stream",
     "text": [
      "Epoch 35: 5.2s to complete\n",
      "    error(train)=3.84e-01, acc(train)=8.71e-01, error(valid)=4.65e-01, acc(valid)=8.46e-01\n"
     ]
    },
    {
     "data": {
      "application/vnd.jupyter.widget-view+json": {
       "model_id": "dc2632bf684c41b2880f9821e75441d2",
       "version_major": 2,
       "version_minor": 0
      },
      "text/plain": [
       "  0%|          | 0/1000 [00:00<?, ?it/s]"
      ]
     },
     "metadata": {},
     "output_type": "display_data"
    },
    {
     "name": "stderr",
     "output_type": "stream",
     "text": [
      "Epoch 36: 5.1s to complete\n",
      "    error(train)=3.82e-01, acc(train)=8.71e-01, error(valid)=4.67e-01, acc(valid)=8.46e-01\n"
     ]
    },
    {
     "data": {
      "application/vnd.jupyter.widget-view+json": {
       "model_id": "a92edc3a8bff407c8d2746ced070bf41",
       "version_major": 2,
       "version_minor": 0
      },
      "text/plain": [
       "  0%|          | 0/1000 [00:00<?, ?it/s]"
      ]
     },
     "metadata": {},
     "output_type": "display_data"
    },
    {
     "name": "stderr",
     "output_type": "stream",
     "text": [
      "Epoch 37: 6.2s to complete\n",
      "    error(train)=3.82e-01, acc(train)=8.70e-01, error(valid)=4.68e-01, acc(valid)=8.44e-01\n"
     ]
    },
    {
     "data": {
      "application/vnd.jupyter.widget-view+json": {
       "model_id": "d071cc3072c74165873aaca95937055b",
       "version_major": 2,
       "version_minor": 0
      },
      "text/plain": [
       "  0%|          | 0/1000 [00:00<?, ?it/s]"
      ]
     },
     "metadata": {},
     "output_type": "display_data"
    },
    {
     "name": "stderr",
     "output_type": "stream",
     "text": [
      "Epoch 38: 4.9s to complete\n",
      "    error(train)=3.73e-01, acc(train)=8.73e-01, error(valid)=4.63e-01, acc(valid)=8.46e-01\n"
     ]
    },
    {
     "data": {
      "application/vnd.jupyter.widget-view+json": {
       "model_id": "75b64c5202344f49925e36c1a46e5e29",
       "version_major": 2,
       "version_minor": 0
      },
      "text/plain": [
       "  0%|          | 0/1000 [00:00<?, ?it/s]"
      ]
     },
     "metadata": {},
     "output_type": "display_data"
    },
    {
     "name": "stderr",
     "output_type": "stream",
     "text": [
      "Epoch 39: 4.8s to complete\n",
      "    error(train)=3.73e-01, acc(train)=8.73e-01, error(valid)=4.65e-01, acc(valid)=8.45e-01\n"
     ]
    },
    {
     "data": {
      "application/vnd.jupyter.widget-view+json": {
       "model_id": "c2ce089b4bf0428ab9b2e6b687b0040d",
       "version_major": 2,
       "version_minor": 0
      },
      "text/plain": [
       "  0%|          | 0/1000 [00:00<?, ?it/s]"
      ]
     },
     "metadata": {},
     "output_type": "display_data"
    },
    {
     "name": "stderr",
     "output_type": "stream",
     "text": [
      "Epoch 40: 5.0s to complete\n",
      "    error(train)=3.65e-01, acc(train)=8.76e-01, error(valid)=4.59e-01, acc(valid)=8.49e-01\n"
     ]
    },
    {
     "data": {
      "application/vnd.jupyter.widget-view+json": {
       "model_id": "fc1df079a8f447cab84788b676e97db2",
       "version_major": 2,
       "version_minor": 0
      },
      "text/plain": [
       "  0%|          | 0/1000 [00:00<?, ?it/s]"
      ]
     },
     "metadata": {},
     "output_type": "display_data"
    },
    {
     "name": "stderr",
     "output_type": "stream",
     "text": [
      "Epoch 41: 4.9s to complete\n",
      "    error(train)=3.63e-01, acc(train)=8.77e-01, error(valid)=4.58e-01, acc(valid)=8.49e-01\n"
     ]
    },
    {
     "data": {
      "application/vnd.jupyter.widget-view+json": {
       "model_id": "e8c95fb4a3094dbda5b19f31b94ae1a8",
       "version_major": 2,
       "version_minor": 0
      },
      "text/plain": [
       "  0%|          | 0/1000 [00:00<?, ?it/s]"
      ]
     },
     "metadata": {},
     "output_type": "display_data"
    },
    {
     "name": "stderr",
     "output_type": "stream",
     "text": [
      "Epoch 42: 4.9s to complete\n",
      "    error(train)=3.60e-01, acc(train)=8.77e-01, error(valid)=4.59e-01, acc(valid)=8.49e-01\n"
     ]
    },
    {
     "data": {
      "application/vnd.jupyter.widget-view+json": {
       "model_id": "0c97bdf6cc724f98a9400403646b867e",
       "version_major": 2,
       "version_minor": 0
      },
      "text/plain": [
       "  0%|          | 0/1000 [00:00<?, ?it/s]"
      ]
     },
     "metadata": {},
     "output_type": "display_data"
    },
    {
     "name": "stderr",
     "output_type": "stream",
     "text": [
      "Epoch 43: 4.9s to complete\n",
      "    error(train)=3.56e-01, acc(train)=8.79e-01, error(valid)=4.56e-01, acc(valid)=8.50e-01\n"
     ]
    },
    {
     "data": {
      "application/vnd.jupyter.widget-view+json": {
       "model_id": "dcef3a0a2df84462aa4e8ae6f1fdffe7",
       "version_major": 2,
       "version_minor": 0
      },
      "text/plain": [
       "  0%|          | 0/1000 [00:00<?, ?it/s]"
      ]
     },
     "metadata": {},
     "output_type": "display_data"
    },
    {
     "name": "stderr",
     "output_type": "stream",
     "text": [
      "Epoch 44: 4.9s to complete\n",
      "    error(train)=3.51e-01, acc(train)=8.80e-01, error(valid)=4.52e-01, acc(valid)=8.49e-01\n"
     ]
    },
    {
     "data": {
      "application/vnd.jupyter.widget-view+json": {
       "model_id": "258c25e25b834644873fa8d657387a48",
       "version_major": 2,
       "version_minor": 0
      },
      "text/plain": [
       "  0%|          | 0/1000 [00:00<?, ?it/s]"
      ]
     },
     "metadata": {},
     "output_type": "display_data"
    },
    {
     "name": "stderr",
     "output_type": "stream",
     "text": [
      "Epoch 45: 4.9s to complete\n",
      "    error(train)=3.48e-01, acc(train)=8.81e-01, error(valid)=4.53e-01, acc(valid)=8.50e-01\n"
     ]
    },
    {
     "data": {
      "application/vnd.jupyter.widget-view+json": {
       "model_id": "cbca59b295074616b9d5bff950304756",
       "version_major": 2,
       "version_minor": 0
      },
      "text/plain": [
       "  0%|          | 0/1000 [00:00<?, ?it/s]"
      ]
     },
     "metadata": {},
     "output_type": "display_data"
    },
    {
     "name": "stderr",
     "output_type": "stream",
     "text": [
      "Epoch 46: 4.9s to complete\n",
      "    error(train)=3.46e-01, acc(train)=8.81e-01, error(valid)=4.51e-01, acc(valid)=8.53e-01\n"
     ]
    },
    {
     "data": {
      "application/vnd.jupyter.widget-view+json": {
       "model_id": "01b057eb70a64753b970149115464791",
       "version_major": 2,
       "version_minor": 0
      },
      "text/plain": [
       "  0%|          | 0/1000 [00:00<?, ?it/s]"
      ]
     },
     "metadata": {},
     "output_type": "display_data"
    },
    {
     "name": "stderr",
     "output_type": "stream",
     "text": [
      "Epoch 47: 4.9s to complete\n",
      "    error(train)=3.45e-01, acc(train)=8.82e-01, error(valid)=4.51e-01, acc(valid)=8.50e-01\n"
     ]
    },
    {
     "data": {
      "application/vnd.jupyter.widget-view+json": {
       "model_id": "a8dcb61a58cc4f6092e0e273fdd0cfb1",
       "version_major": 2,
       "version_minor": 0
      },
      "text/plain": [
       "  0%|          | 0/1000 [00:00<?, ?it/s]"
      ]
     },
     "metadata": {},
     "output_type": "display_data"
    },
    {
     "name": "stderr",
     "output_type": "stream",
     "text": [
      "Epoch 48: 4.9s to complete\n",
      "    error(train)=3.41e-01, acc(train)=8.82e-01, error(valid)=4.49e-01, acc(valid)=8.50e-01\n"
     ]
    },
    {
     "data": {
      "application/vnd.jupyter.widget-view+json": {
       "model_id": "1aa5269888fa4e69b4db8e27b0799093",
       "version_major": 2,
       "version_minor": 0
      },
      "text/plain": [
       "  0%|          | 0/1000 [00:00<?, ?it/s]"
      ]
     },
     "metadata": {},
     "output_type": "display_data"
    },
    {
     "name": "stderr",
     "output_type": "stream",
     "text": [
      "Epoch 49: 5.5s to complete\n",
      "    error(train)=3.39e-01, acc(train)=8.83e-01, error(valid)=4.50e-01, acc(valid)=8.51e-01\n"
     ]
    },
    {
     "data": {
      "application/vnd.jupyter.widget-view+json": {
       "model_id": "2d8c5f8b0aab4129a722c08014689915",
       "version_major": 2,
       "version_minor": 0
      },
      "text/plain": [
       "  0%|          | 0/1000 [00:00<?, ?it/s]"
      ]
     },
     "metadata": {},
     "output_type": "display_data"
    },
    {
     "name": "stderr",
     "output_type": "stream",
     "text": [
      "Epoch 50: 4.7s to complete\n",
      "    error(train)=3.34e-01, acc(train)=8.84e-01, error(valid)=4.47e-01, acc(valid)=8.52e-01\n"
     ]
    },
    {
     "data": {
      "application/vnd.jupyter.widget-view+json": {
       "model_id": "5d52bb16a797496880548677748234d4",
       "version_major": 2,
       "version_minor": 0
      },
      "text/plain": [
       "  0%|          | 0/1000 [00:00<?, ?it/s]"
      ]
     },
     "metadata": {},
     "output_type": "display_data"
    },
    {
     "name": "stderr",
     "output_type": "stream",
     "text": [
      "Epoch 51: 4.8s to complete\n",
      "    error(train)=3.33e-01, acc(train)=8.85e-01, error(valid)=4.46e-01, acc(valid)=8.53e-01\n"
     ]
    },
    {
     "data": {
      "application/vnd.jupyter.widget-view+json": {
       "model_id": "f8588e90a49049ad9fab82f47178a79e",
       "version_major": 2,
       "version_minor": 0
      },
      "text/plain": [
       "  0%|          | 0/1000 [00:00<?, ?it/s]"
      ]
     },
     "metadata": {},
     "output_type": "display_data"
    },
    {
     "name": "stderr",
     "output_type": "stream",
     "text": [
      "Epoch 52: 4.8s to complete\n",
      "    error(train)=3.30e-01, acc(train)=8.86e-01, error(valid)=4.47e-01, acc(valid)=8.52e-01\n"
     ]
    },
    {
     "data": {
      "application/vnd.jupyter.widget-view+json": {
       "model_id": "3c4fcf27156a4c798e279058113b3bea",
       "version_major": 2,
       "version_minor": 0
      },
      "text/plain": [
       "  0%|          | 0/1000 [00:00<?, ?it/s]"
      ]
     },
     "metadata": {},
     "output_type": "display_data"
    },
    {
     "name": "stderr",
     "output_type": "stream",
     "text": [
      "Epoch 53: 4.8s to complete\n",
      "    error(train)=3.26e-01, acc(train)=8.87e-01, error(valid)=4.46e-01, acc(valid)=8.52e-01\n"
     ]
    },
    {
     "data": {
      "application/vnd.jupyter.widget-view+json": {
       "model_id": "0f079ccac740464882f2747ffc5125cd",
       "version_major": 2,
       "version_minor": 0
      },
      "text/plain": [
       "  0%|          | 0/1000 [00:00<?, ?it/s]"
      ]
     },
     "metadata": {},
     "output_type": "display_data"
    },
    {
     "name": "stderr",
     "output_type": "stream",
     "text": [
      "Epoch 54: 4.9s to complete\n",
      "    error(train)=3.28e-01, acc(train)=8.85e-01, error(valid)=4.49e-01, acc(valid)=8.52e-01\n"
     ]
    },
    {
     "data": {
      "application/vnd.jupyter.widget-view+json": {
       "model_id": "5a2f5c4f5b474a6f945772d9db09b2ce",
       "version_major": 2,
       "version_minor": 0
      },
      "text/plain": [
       "  0%|          | 0/1000 [00:00<?, ?it/s]"
      ]
     },
     "metadata": {},
     "output_type": "display_data"
    },
    {
     "name": "stderr",
     "output_type": "stream",
     "text": [
      "Epoch 55: 4.7s to complete\n",
      "    error(train)=3.22e-01, acc(train)=8.88e-01, error(valid)=4.45e-01, acc(valid)=8.53e-01\n"
     ]
    },
    {
     "data": {
      "application/vnd.jupyter.widget-view+json": {
       "model_id": "92bf69a69fff46a1abf59084eb4b9bb1",
       "version_major": 2,
       "version_minor": 0
      },
      "text/plain": [
       "  0%|          | 0/1000 [00:00<?, ?it/s]"
      ]
     },
     "metadata": {},
     "output_type": "display_data"
    },
    {
     "name": "stderr",
     "output_type": "stream",
     "text": [
      "Epoch 56: 4.9s to complete\n",
      "    error(train)=3.18e-01, acc(train)=8.89e-01, error(valid)=4.42e-01, acc(valid)=8.53e-01\n"
     ]
    },
    {
     "data": {
      "application/vnd.jupyter.widget-view+json": {
       "model_id": "a4052607b378465186aa476f3d75f790",
       "version_major": 2,
       "version_minor": 0
      },
      "text/plain": [
       "  0%|          | 0/1000 [00:00<?, ?it/s]"
      ]
     },
     "metadata": {},
     "output_type": "display_data"
    },
    {
     "name": "stderr",
     "output_type": "stream",
     "text": [
      "Epoch 57: 5.1s to complete\n",
      "    error(train)=3.17e-01, acc(train)=8.89e-01, error(valid)=4.44e-01, acc(valid)=8.53e-01\n"
     ]
    },
    {
     "data": {
      "application/vnd.jupyter.widget-view+json": {
       "model_id": "0cc286f1de0949668d33240f4e9625fd",
       "version_major": 2,
       "version_minor": 0
      },
      "text/plain": [
       "  0%|          | 0/1000 [00:00<?, ?it/s]"
      ]
     },
     "metadata": {},
     "output_type": "display_data"
    },
    {
     "name": "stderr",
     "output_type": "stream",
     "text": [
      "Epoch 58: 5.0s to complete\n",
      "    error(train)=3.17e-01, acc(train)=8.90e-01, error(valid)=4.47e-01, acc(valid)=8.52e-01\n"
     ]
    },
    {
     "data": {
      "application/vnd.jupyter.widget-view+json": {
       "model_id": "cd47c919dc9c48cebc0c8462fadd849d",
       "version_major": 2,
       "version_minor": 0
      },
      "text/plain": [
       "  0%|          | 0/1000 [00:00<?, ?it/s]"
      ]
     },
     "metadata": {},
     "output_type": "display_data"
    },
    {
     "name": "stderr",
     "output_type": "stream",
     "text": [
      "Epoch 59: 4.9s to complete\n",
      "    error(train)=3.11e-01, acc(train)=8.92e-01, error(valid)=4.41e-01, acc(valid)=8.54e-01\n"
     ]
    },
    {
     "data": {
      "application/vnd.jupyter.widget-view+json": {
       "model_id": "a55b8b5c37ef43c4ba144a79ea6d216e",
       "version_major": 2,
       "version_minor": 0
      },
      "text/plain": [
       "  0%|          | 0/1000 [00:00<?, ?it/s]"
      ]
     },
     "metadata": {},
     "output_type": "display_data"
    },
    {
     "name": "stderr",
     "output_type": "stream",
     "text": [
      "Epoch 60: 4.8s to complete\n",
      "    error(train)=3.10e-01, acc(train)=8.91e-01, error(valid)=4.40e-01, acc(valid)=8.54e-01\n"
     ]
    },
    {
     "data": {
      "application/vnd.jupyter.widget-view+json": {
       "model_id": "a440bd5fb1db409d8cc4b01aa2c14c4d",
       "version_major": 2,
       "version_minor": 0
      },
      "text/plain": [
       "  0%|          | 0/1000 [00:00<?, ?it/s]"
      ]
     },
     "metadata": {},
     "output_type": "display_data"
    },
    {
     "name": "stderr",
     "output_type": "stream",
     "text": [
      "Epoch 61: 4.8s to complete\n",
      "    error(train)=3.06e-01, acc(train)=8.93e-01, error(valid)=4.39e-01, acc(valid)=8.53e-01\n"
     ]
    },
    {
     "data": {
      "application/vnd.jupyter.widget-view+json": {
       "model_id": "c7766759848942ffb59beed79c3b18bf",
       "version_major": 2,
       "version_minor": 0
      },
      "text/plain": [
       "  0%|          | 0/1000 [00:00<?, ?it/s]"
      ]
     },
     "metadata": {},
     "output_type": "display_data"
    },
    {
     "name": "stderr",
     "output_type": "stream",
     "text": [
      "Epoch 62: 10.9s to complete\n",
      "    error(train)=3.04e-01, acc(train)=8.94e-01, error(valid)=4.40e-01, acc(valid)=8.54e-01\n"
     ]
    },
    {
     "data": {
      "application/vnd.jupyter.widget-view+json": {
       "model_id": "8436ba933f9d41deaae8ed42638d3a48",
       "version_major": 2,
       "version_minor": 0
      },
      "text/plain": [
       "  0%|          | 0/1000 [00:00<?, ?it/s]"
      ]
     },
     "metadata": {},
     "output_type": "display_data"
    },
    {
     "name": "stderr",
     "output_type": "stream",
     "text": [
      "Epoch 63: 7.4s to complete\n",
      "    error(train)=3.02e-01, acc(train)=8.94e-01, error(valid)=4.40e-01, acc(valid)=8.54e-01\n"
     ]
    },
    {
     "data": {
      "application/vnd.jupyter.widget-view+json": {
       "model_id": "0c462969e700490d8124fb468a61642c",
       "version_major": 2,
       "version_minor": 0
      },
      "text/plain": [
       "  0%|          | 0/1000 [00:00<?, ?it/s]"
      ]
     },
     "metadata": {},
     "output_type": "display_data"
    },
    {
     "name": "stderr",
     "output_type": "stream",
     "text": [
      "Epoch 64: 8.3s to complete\n",
      "    error(train)=3.01e-01, acc(train)=8.95e-01, error(valid)=4.39e-01, acc(valid)=8.53e-01\n"
     ]
    },
    {
     "data": {
      "application/vnd.jupyter.widget-view+json": {
       "model_id": "ac31ea53019942ed9dab14ec92a25bb9",
       "version_major": 2,
       "version_minor": 0
      },
      "text/plain": [
       "  0%|          | 0/1000 [00:00<?, ?it/s]"
      ]
     },
     "metadata": {},
     "output_type": "display_data"
    },
    {
     "name": "stderr",
     "output_type": "stream",
     "text": [
      "Epoch 65: 6.2s to complete\n",
      "    error(train)=2.98e-01, acc(train)=8.95e-01, error(valid)=4.39e-01, acc(valid)=8.55e-01\n"
     ]
    },
    {
     "data": {
      "application/vnd.jupyter.widget-view+json": {
       "model_id": "278c4bc677b1440f82edeba5d4396f32",
       "version_major": 2,
       "version_minor": 0
      },
      "text/plain": [
       "  0%|          | 0/1000 [00:00<?, ?it/s]"
      ]
     },
     "metadata": {},
     "output_type": "display_data"
    },
    {
     "name": "stderr",
     "output_type": "stream",
     "text": [
      "Epoch 66: 4.9s to complete\n",
      "    error(train)=2.97e-01, acc(train)=8.96e-01, error(valid)=4.39e-01, acc(valid)=8.54e-01\n"
     ]
    },
    {
     "data": {
      "application/vnd.jupyter.widget-view+json": {
       "model_id": "1eecf36134ce4c129d73eb1050aecf75",
       "version_major": 2,
       "version_minor": 0
      },
      "text/plain": [
       "  0%|          | 0/1000 [00:00<?, ?it/s]"
      ]
     },
     "metadata": {},
     "output_type": "display_data"
    },
    {
     "name": "stderr",
     "output_type": "stream",
     "text": [
      "Epoch 67: 4.9s to complete\n",
      "    error(train)=2.93e-01, acc(train)=8.97e-01, error(valid)=4.37e-01, acc(valid)=8.55e-01\n"
     ]
    },
    {
     "data": {
      "application/vnd.jupyter.widget-view+json": {
       "model_id": "9f4658ba62c64642b501b5db3fc5d073",
       "version_major": 2,
       "version_minor": 0
      },
      "text/plain": [
       "  0%|          | 0/1000 [00:00<?, ?it/s]"
      ]
     },
     "metadata": {},
     "output_type": "display_data"
    },
    {
     "name": "stderr",
     "output_type": "stream",
     "text": [
      "Epoch 68: 4.7s to complete\n",
      "    error(train)=2.91e-01, acc(train)=8.98e-01, error(valid)=4.36e-01, acc(valid)=8.57e-01\n"
     ]
    },
    {
     "data": {
      "application/vnd.jupyter.widget-view+json": {
       "model_id": "f3952e8b94c34f41bb06b507df14186d",
       "version_major": 2,
       "version_minor": 0
      },
      "text/plain": [
       "  0%|          | 0/1000 [00:00<?, ?it/s]"
      ]
     },
     "metadata": {},
     "output_type": "display_data"
    },
    {
     "name": "stderr",
     "output_type": "stream",
     "text": [
      "Epoch 69: 5.0s to complete\n",
      "    error(train)=2.91e-01, acc(train)=8.97e-01, error(valid)=4.39e-01, acc(valid)=8.54e-01\n"
     ]
    },
    {
     "data": {
      "application/vnd.jupyter.widget-view+json": {
       "model_id": "42bec49766de4b43a838e804e16d4806",
       "version_major": 2,
       "version_minor": 0
      },
      "text/plain": [
       "  0%|          | 0/1000 [00:00<?, ?it/s]"
      ]
     },
     "metadata": {},
     "output_type": "display_data"
    },
    {
     "name": "stderr",
     "output_type": "stream",
     "text": [
      "Epoch 70: 4.8s to complete\n",
      "    error(train)=2.86e-01, acc(train)=8.99e-01, error(valid)=4.37e-01, acc(valid)=8.56e-01\n"
     ]
    },
    {
     "data": {
      "application/vnd.jupyter.widget-view+json": {
       "model_id": "b3330031ab44468c8d7f676370e28849",
       "version_major": 2,
       "version_minor": 0
      },
      "text/plain": [
       "  0%|          | 0/1000 [00:00<?, ?it/s]"
      ]
     },
     "metadata": {},
     "output_type": "display_data"
    },
    {
     "name": "stderr",
     "output_type": "stream",
     "text": [
      "Epoch 71: 5.0s to complete\n",
      "    error(train)=2.87e-01, acc(train)=8.99e-01, error(valid)=4.37e-01, acc(valid)=8.55e-01\n"
     ]
    },
    {
     "data": {
      "application/vnd.jupyter.widget-view+json": {
       "model_id": "9c221cecb10b47daaa74c628addee949",
       "version_major": 2,
       "version_minor": 0
      },
      "text/plain": [
       "  0%|          | 0/1000 [00:00<?, ?it/s]"
      ]
     },
     "metadata": {},
     "output_type": "display_data"
    },
    {
     "name": "stderr",
     "output_type": "stream",
     "text": [
      "Epoch 72: 4.9s to complete\n",
      "    error(train)=2.84e-01, acc(train)=8.99e-01, error(valid)=4.35e-01, acc(valid)=8.55e-01\n"
     ]
    },
    {
     "data": {
      "application/vnd.jupyter.widget-view+json": {
       "model_id": "ad831214fb0d4f9283a1bb6215c3aee7",
       "version_major": 2,
       "version_minor": 0
      },
      "text/plain": [
       "  0%|          | 0/1000 [00:00<?, ?it/s]"
      ]
     },
     "metadata": {},
     "output_type": "display_data"
    },
    {
     "name": "stderr",
     "output_type": "stream",
     "text": [
      "Epoch 73: 5.0s to complete\n",
      "    error(train)=2.84e-01, acc(train)=9.00e-01, error(valid)=4.39e-01, acc(valid)=8.55e-01\n"
     ]
    },
    {
     "data": {
      "application/vnd.jupyter.widget-view+json": {
       "model_id": "fc498b7520b3430a8ed22025486b9add",
       "version_major": 2,
       "version_minor": 0
      },
      "text/plain": [
       "  0%|          | 0/1000 [00:00<?, ?it/s]"
      ]
     },
     "metadata": {},
     "output_type": "display_data"
    },
    {
     "name": "stderr",
     "output_type": "stream",
     "text": [
      "Epoch 74: 5.0s to complete\n",
      "    error(train)=2.80e-01, acc(train)=9.01e-01, error(valid)=4.36e-01, acc(valid)=8.55e-01\n"
     ]
    },
    {
     "data": {
      "application/vnd.jupyter.widget-view+json": {
       "model_id": "f07bdb2c90bf4e2e843f8a820aeecf5d",
       "version_major": 2,
       "version_minor": 0
      },
      "text/plain": [
       "  0%|          | 0/1000 [00:00<?, ?it/s]"
      ]
     },
     "metadata": {},
     "output_type": "display_data"
    },
    {
     "name": "stderr",
     "output_type": "stream",
     "text": [
      "Epoch 75: 4.9s to complete\n",
      "    error(train)=2.78e-01, acc(train)=9.02e-01, error(valid)=4.36e-01, acc(valid)=8.56e-01\n"
     ]
    },
    {
     "data": {
      "application/vnd.jupyter.widget-view+json": {
       "model_id": "c0fa3dd2600b417eb1cffe0103c0f69c",
       "version_major": 2,
       "version_minor": 0
      },
      "text/plain": [
       "  0%|          | 0/1000 [00:00<?, ?it/s]"
      ]
     },
     "metadata": {},
     "output_type": "display_data"
    },
    {
     "name": "stderr",
     "output_type": "stream",
     "text": [
      "Epoch 76: 4.9s to complete\n",
      "    error(train)=2.76e-01, acc(train)=9.03e-01, error(valid)=4.34e-01, acc(valid)=8.57e-01\n"
     ]
    },
    {
     "data": {
      "application/vnd.jupyter.widget-view+json": {
       "model_id": "a1824b86ac824078b7d3eb0c399222ea",
       "version_major": 2,
       "version_minor": 0
      },
      "text/plain": [
       "  0%|          | 0/1000 [00:00<?, ?it/s]"
      ]
     },
     "metadata": {},
     "output_type": "display_data"
    },
    {
     "name": "stderr",
     "output_type": "stream",
     "text": [
      "Epoch 77: 4.9s to complete\n",
      "    error(train)=2.74e-01, acc(train)=9.02e-01, error(valid)=4.38e-01, acc(valid)=8.54e-01\n"
     ]
    },
    {
     "data": {
      "application/vnd.jupyter.widget-view+json": {
       "model_id": "544a1c1b68e34b94ab5f71e5034a229d",
       "version_major": 2,
       "version_minor": 0
      },
      "text/plain": [
       "  0%|          | 0/1000 [00:00<?, ?it/s]"
      ]
     },
     "metadata": {},
     "output_type": "display_data"
    },
    {
     "name": "stderr",
     "output_type": "stream",
     "text": [
      "Epoch 78: 5.0s to complete\n",
      "    error(train)=2.73e-01, acc(train)=9.03e-01, error(valid)=4.38e-01, acc(valid)=8.56e-01\n"
     ]
    },
    {
     "data": {
      "application/vnd.jupyter.widget-view+json": {
       "model_id": "d40b27e1c51b4594afe4f0b043360d2a",
       "version_major": 2,
       "version_minor": 0
      },
      "text/plain": [
       "  0%|          | 0/1000 [00:00<?, ?it/s]"
      ]
     },
     "metadata": {},
     "output_type": "display_data"
    },
    {
     "name": "stderr",
     "output_type": "stream",
     "text": [
      "Epoch 79: 4.8s to complete\n",
      "    error(train)=2.71e-01, acc(train)=9.03e-01, error(valid)=4.35e-01, acc(valid)=8.56e-01\n"
     ]
    },
    {
     "data": {
      "application/vnd.jupyter.widget-view+json": {
       "model_id": "6555f5265b724e1f8599676bb5c27a94",
       "version_major": 2,
       "version_minor": 0
      },
      "text/plain": [
       "  0%|          | 0/1000 [00:00<?, ?it/s]"
      ]
     },
     "metadata": {},
     "output_type": "display_data"
    },
    {
     "name": "stderr",
     "output_type": "stream",
     "text": [
      "Epoch 80: 5.0s to complete\n",
      "    error(train)=2.74e-01, acc(train)=9.02e-01, error(valid)=4.41e-01, acc(valid)=8.55e-01\n"
     ]
    },
    {
     "data": {
      "application/vnd.jupyter.widget-view+json": {
       "model_id": "a9b0eafc03e4487487e3dc260c8f2787",
       "version_major": 2,
       "version_minor": 0
      },
      "text/plain": [
       "  0%|          | 0/1000 [00:00<?, ?it/s]"
      ]
     },
     "metadata": {},
     "output_type": "display_data"
    },
    {
     "name": "stderr",
     "output_type": "stream",
     "text": [
      "Epoch 81: 5.5s to complete\n",
      "    error(train)=2.68e-01, acc(train)=9.04e-01, error(valid)=4.36e-01, acc(valid)=8.57e-01\n"
     ]
    },
    {
     "data": {
      "application/vnd.jupyter.widget-view+json": {
       "model_id": "32c4e7d2c1b44da9aa76cf624fb9b027",
       "version_major": 2,
       "version_minor": 0
      },
      "text/plain": [
       "  0%|          | 0/1000 [00:00<?, ?it/s]"
      ]
     },
     "metadata": {},
     "output_type": "display_data"
    },
    {
     "name": "stderr",
     "output_type": "stream",
     "text": [
      "Epoch 82: 6.9s to complete\n",
      "    error(train)=2.67e-01, acc(train)=9.05e-01, error(valid)=4.35e-01, acc(valid)=8.55e-01\n"
     ]
    },
    {
     "data": {
      "application/vnd.jupyter.widget-view+json": {
       "model_id": "f318fc8c56ec4eaf9a1f9d1fb3a49839",
       "version_major": 2,
       "version_minor": 0
      },
      "text/plain": [
       "  0%|          | 0/1000 [00:00<?, ?it/s]"
      ]
     },
     "metadata": {},
     "output_type": "display_data"
    },
    {
     "name": "stderr",
     "output_type": "stream",
     "text": [
      "Epoch 83: 7.1s to complete\n",
      "    error(train)=2.65e-01, acc(train)=9.06e-01, error(valid)=4.34e-01, acc(valid)=8.56e-01\n"
     ]
    },
    {
     "data": {
      "application/vnd.jupyter.widget-view+json": {
       "model_id": "5ac51e6557ff40b9a7d2ae0a0a398efc",
       "version_major": 2,
       "version_minor": 0
      },
      "text/plain": [
       "  0%|          | 0/1000 [00:00<?, ?it/s]"
      ]
     },
     "metadata": {},
     "output_type": "display_data"
    },
    {
     "name": "stderr",
     "output_type": "stream",
     "text": [
      "Epoch 84: 6.3s to complete\n",
      "    error(train)=2.63e-01, acc(train)=9.06e-01, error(valid)=4.36e-01, acc(valid)=8.56e-01\n"
     ]
    },
    {
     "data": {
      "application/vnd.jupyter.widget-view+json": {
       "model_id": "a8c9055a5c314e12b8b0a28624771f12",
       "version_major": 2,
       "version_minor": 0
      },
      "text/plain": [
       "  0%|          | 0/1000 [00:00<?, ?it/s]"
      ]
     },
     "metadata": {},
     "output_type": "display_data"
    },
    {
     "name": "stderr",
     "output_type": "stream",
     "text": [
      "Epoch 85: 6.9s to complete\n",
      "    error(train)=2.63e-01, acc(train)=9.06e-01, error(valid)=4.39e-01, acc(valid)=8.55e-01\n"
     ]
    },
    {
     "data": {
      "application/vnd.jupyter.widget-view+json": {
       "model_id": "6a4c9c00fa584fa683bebd0ea3cf7d76",
       "version_major": 2,
       "version_minor": 0
      },
      "text/plain": [
       "  0%|          | 0/1000 [00:00<?, ?it/s]"
      ]
     },
     "metadata": {},
     "output_type": "display_data"
    },
    {
     "name": "stderr",
     "output_type": "stream",
     "text": [
      "Epoch 86: 6.3s to complete\n",
      "    error(train)=2.61e-01, acc(train)=9.07e-01, error(valid)=4.38e-01, acc(valid)=8.56e-01\n"
     ]
    },
    {
     "data": {
      "application/vnd.jupyter.widget-view+json": {
       "model_id": "b023eaae488446098fa9f6a0d3399484",
       "version_major": 2,
       "version_minor": 0
      },
      "text/plain": [
       "  0%|          | 0/1000 [00:00<?, ?it/s]"
      ]
     },
     "metadata": {},
     "output_type": "display_data"
    },
    {
     "name": "stderr",
     "output_type": "stream",
     "text": [
      "Epoch 87: 6.5s to complete\n",
      "    error(train)=2.58e-01, acc(train)=9.08e-01, error(valid)=4.36e-01, acc(valid)=8.56e-01\n"
     ]
    },
    {
     "data": {
      "application/vnd.jupyter.widget-view+json": {
       "model_id": "e9bddddc3b214e538af604f6fbf87faa",
       "version_major": 2,
       "version_minor": 0
      },
      "text/plain": [
       "  0%|          | 0/1000 [00:00<?, ?it/s]"
      ]
     },
     "metadata": {},
     "output_type": "display_data"
    },
    {
     "name": "stderr",
     "output_type": "stream",
     "text": [
      "Epoch 88: 6.8s to complete\n",
      "    error(train)=2.58e-01, acc(train)=9.07e-01, error(valid)=4.38e-01, acc(valid)=8.56e-01\n"
     ]
    },
    {
     "data": {
      "application/vnd.jupyter.widget-view+json": {
       "model_id": "fe1544a47f164ecd9f1317d76d01fd82",
       "version_major": 2,
       "version_minor": 0
      },
      "text/plain": [
       "  0%|          | 0/1000 [00:00<?, ?it/s]"
      ]
     },
     "metadata": {},
     "output_type": "display_data"
    },
    {
     "name": "stderr",
     "output_type": "stream",
     "text": [
      "Epoch 89: 6.7s to complete\n",
      "    error(train)=2.55e-01, acc(train)=9.08e-01, error(valid)=4.37e-01, acc(valid)=8.57e-01\n"
     ]
    },
    {
     "data": {
      "application/vnd.jupyter.widget-view+json": {
       "model_id": "faaa07297d16448b92948506dc875377",
       "version_major": 2,
       "version_minor": 0
      },
      "text/plain": [
       "  0%|          | 0/1000 [00:00<?, ?it/s]"
      ]
     },
     "metadata": {},
     "output_type": "display_data"
    },
    {
     "name": "stderr",
     "output_type": "stream",
     "text": [
      "Epoch 90: 6.4s to complete\n",
      "    error(train)=2.54e-01, acc(train)=9.10e-01, error(valid)=4.37e-01, acc(valid)=8.56e-01\n"
     ]
    },
    {
     "data": {
      "application/vnd.jupyter.widget-view+json": {
       "model_id": "9e324d1bd4694b2bbe4c9f86d733a568",
       "version_major": 2,
       "version_minor": 0
      },
      "text/plain": [
       "  0%|          | 0/1000 [00:00<?, ?it/s]"
      ]
     },
     "metadata": {},
     "output_type": "display_data"
    },
    {
     "name": "stderr",
     "output_type": "stream",
     "text": [
      "Epoch 91: 6.4s to complete\n",
      "    error(train)=2.53e-01, acc(train)=9.09e-01, error(valid)=4.37e-01, acc(valid)=8.58e-01\n"
     ]
    },
    {
     "data": {
      "application/vnd.jupyter.widget-view+json": {
       "model_id": "67c44b79a6614865be47b3f24062e993",
       "version_major": 2,
       "version_minor": 0
      },
      "text/plain": [
       "  0%|          | 0/1000 [00:00<?, ?it/s]"
      ]
     },
     "metadata": {},
     "output_type": "display_data"
    },
    {
     "name": "stderr",
     "output_type": "stream",
     "text": [
      "Epoch 92: 6.7s to complete\n",
      "    error(train)=2.50e-01, acc(train)=9.10e-01, error(valid)=4.38e-01, acc(valid)=8.56e-01\n"
     ]
    },
    {
     "data": {
      "application/vnd.jupyter.widget-view+json": {
       "model_id": "05fc4465dc034265bce72d1aab6411c3",
       "version_major": 2,
       "version_minor": 0
      },
      "text/plain": [
       "  0%|          | 0/1000 [00:00<?, ?it/s]"
      ]
     },
     "metadata": {},
     "output_type": "display_data"
    },
    {
     "name": "stderr",
     "output_type": "stream",
     "text": [
      "Epoch 93: 7.3s to complete\n",
      "    error(train)=2.51e-01, acc(train)=9.09e-01, error(valid)=4.38e-01, acc(valid)=8.57e-01\n"
     ]
    },
    {
     "data": {
      "application/vnd.jupyter.widget-view+json": {
       "model_id": "558eb84d8b3c49909498b93594189ae5",
       "version_major": 2,
       "version_minor": 0
      },
      "text/plain": [
       "  0%|          | 0/1000 [00:00<?, ?it/s]"
      ]
     },
     "metadata": {},
     "output_type": "display_data"
    },
    {
     "name": "stderr",
     "output_type": "stream",
     "text": [
      "Epoch 94: 10.1s to complete\n",
      "    error(train)=2.48e-01, acc(train)=9.10e-01, error(valid)=4.40e-01, acc(valid)=8.55e-01\n"
     ]
    },
    {
     "data": {
      "application/vnd.jupyter.widget-view+json": {
       "model_id": "d4dbc540991c4eb7832f8e9c91f2afaa",
       "version_major": 2,
       "version_minor": 0
      },
      "text/plain": [
       "  0%|          | 0/1000 [00:00<?, ?it/s]"
      ]
     },
     "metadata": {},
     "output_type": "display_data"
    },
    {
     "name": "stderr",
     "output_type": "stream",
     "text": [
      "Epoch 95: 6.9s to complete\n",
      "    error(train)=2.48e-01, acc(train)=9.10e-01, error(valid)=4.39e-01, acc(valid)=8.56e-01\n"
     ]
    },
    {
     "data": {
      "application/vnd.jupyter.widget-view+json": {
       "model_id": "714193d49b034d2baa828c902758645f",
       "version_major": 2,
       "version_minor": 0
      },
      "text/plain": [
       "  0%|          | 0/1000 [00:00<?, ?it/s]"
      ]
     },
     "metadata": {},
     "output_type": "display_data"
    },
    {
     "name": "stderr",
     "output_type": "stream",
     "text": [
      "Epoch 96: 6.7s to complete\n",
      "    error(train)=2.46e-01, acc(train)=9.11e-01, error(valid)=4.41e-01, acc(valid)=8.56e-01\n"
     ]
    },
    {
     "data": {
      "application/vnd.jupyter.widget-view+json": {
       "model_id": "231d285391c24074a8b4affb8c31e11e",
       "version_major": 2,
       "version_minor": 0
      },
      "text/plain": [
       "  0%|          | 0/1000 [00:00<?, ?it/s]"
      ]
     },
     "metadata": {},
     "output_type": "display_data"
    },
    {
     "name": "stderr",
     "output_type": "stream",
     "text": [
      "Epoch 97: 6.5s to complete\n",
      "    error(train)=2.44e-01, acc(train)=9.12e-01, error(valid)=4.40e-01, acc(valid)=8.56e-01\n"
     ]
    },
    {
     "data": {
      "application/vnd.jupyter.widget-view+json": {
       "model_id": "d8f9304042674fbd85059bc565bc5419",
       "version_major": 2,
       "version_minor": 0
      },
      "text/plain": [
       "  0%|          | 0/1000 [00:00<?, ?it/s]"
      ]
     },
     "metadata": {},
     "output_type": "display_data"
    },
    {
     "name": "stderr",
     "output_type": "stream",
     "text": [
      "Epoch 98: 6.8s to complete\n",
      "    error(train)=2.42e-01, acc(train)=9.12e-01, error(valid)=4.39e-01, acc(valid)=8.55e-01\n"
     ]
    },
    {
     "data": {
      "application/vnd.jupyter.widget-view+json": {
       "model_id": "e20a835c20c544269a192c1fa3be69c5",
       "version_major": 2,
       "version_minor": 0
      },
      "text/plain": [
       "  0%|          | 0/1000 [00:00<?, ?it/s]"
      ]
     },
     "metadata": {},
     "output_type": "display_data"
    },
    {
     "name": "stderr",
     "output_type": "stream",
     "text": [
      "Epoch 99: 6.6s to complete\n",
      "    error(train)=2.44e-01, acc(train)=9.11e-01, error(valid)=4.43e-01, acc(valid)=8.56e-01\n"
     ]
    },
    {
     "data": {
      "application/vnd.jupyter.widget-view+json": {
       "model_id": "5d480d74d86b477da5311047bf6a414e",
       "version_major": 2,
       "version_minor": 0
      },
      "text/plain": [
       "  0%|          | 0/1000 [00:00<?, ?it/s]"
      ]
     },
     "metadata": {},
     "output_type": "display_data"
    },
    {
     "name": "stderr",
     "output_type": "stream",
     "text": [
      "Epoch 100: 6.6s to complete\n",
      "    error(train)=2.40e-01, acc(train)=9.13e-01, error(valid)=4.39e-01, acc(valid)=8.58e-01\n"
     ]
    }
   ],
   "source": [
    "from mlp.layers import AffineLayer, SoftmaxLayer, SigmoidLayer, ReluLayer, DropoutLayer\n",
    "from mlp.errors import CrossEntropySoftmaxError\n",
    "from mlp.models import MultipleLayerModel\n",
    "from mlp.initialisers import ConstantInit, GlorotUniformInit\n",
    "from mlp.learning_rules import AdamLearningRule\n",
    "from mlp.optimisers import Optimiser\n",
    "\n",
    "# Setup hyperparameters\n",
    "learning_rate = 0.0001\n",
    "num_epochs = 100\n",
    "stats_interval = 1\n",
    "input_dim, output_dim = 784, 47\n",
    "hidden_dim = 128\n",
    "\n",
    "#reset the data and weight\n",
    "rng.seed(seed)\n",
    "train_data.reset()\n",
    "valid_data.reset()\n",
    "weights_init = GlorotUniformInit(rng=rng)\n",
    "biases_init = ConstantInit(0.)\n",
    "\n",
    "# model configuration for this experiment\n",
    "incl_prob_best = 0.97\n",
    "model = MultipleLayerModel([\n",
    "    AffineLayer(input_dim, hidden_dim, weights_init, biases_init), # first hidden layer\n",
    "    ReluLayer(),\n",
    "    DropoutLayer(rng=rng, incl_prob=incl_prob_best),\n",
    "    AffineLayer(hidden_dim, hidden_dim, weights_init, biases_init), # second hidden layer\n",
    "    ReluLayer(),\n",
    "    DropoutLayer(rng=rng, incl_prob=incl_prob_best),\n",
    "    AffineLayer(hidden_dim, hidden_dim, weights_init, biases_init), # third hidden layer\n",
    "    ReluLayer(),\n",
    "    DropoutLayer(rng=rng, incl_prob=incl_prob_best),\n",
    "    AffineLayer(hidden_dim, output_dim, weights_init, biases_init) # output layer\n",
    "])\n",
    "\n",
    "# training \n",
    "error = CrossEntropySoftmaxError()\n",
    "learning_rule = AdamLearningRule(learning_rate=learning_rate)\n",
    "\n",
    "data_monitors={'acc': lambda y, t: (y.argmax(-1) == t.argmax(-1)).mean()}\n",
    "\n",
    "# Use the created objects to initialise a new Optimiser instance.\n",
    "optimiser = Optimiser(\n",
    "    model, error, learning_rule, train_data, valid_data, data_monitors, notebook=True)\n",
    "\n",
    "# Run the optimiser for num_epochs epochs (full passes through the training set)\n",
    "# printing statistics every epoch.\n",
    "stats, keys, run_time = optimiser.train(num_epochs=num_epochs, stats_interval=stats_interval)"
   ]
  },
  {
   "cell_type": "code",
   "execution_count": 3,
   "metadata": {},
   "outputs": [
    {
     "name": "stdout",
     "output_type": "stream",
     "text": [
      "KeysView(<numpy.lib.npyio.NpzFile object at 0x107c81150>)\n"
     ]
    }
   ],
   "source": [
    "test_data = EMNISTDataProvider('test', batch_size=batch_size, rng=rng)\n",
    "\n",
    "test_mon_vals = optimiser.eval_monitors(test_data, 'test')"
   ]
  },
  {
   "cell_type": "code",
   "execution_count": 4,
   "metadata": {},
   "outputs": [
    {
     "name": "stdout",
     "output_type": "stream",
     "text": [
      "OrderedDict([('errortest', 0.4836879363945235), ('acctest', 0.8441139240506328)])\n"
     ]
    }
   ],
   "source": [
    "print(test_mon_vals)"
   ]
  }
 ],
 "metadata": {
  "kernelspec": {
   "display_name": "Python 3.10.6 ('mlp')",
   "language": "python",
   "name": "python3"
  },
  "language_info": {
   "codemirror_mode": {
    "name": "ipython",
    "version": 3
   },
   "file_extension": ".py",
   "mimetype": "text/x-python",
   "name": "python",
   "nbconvert_exporter": "python",
   "pygments_lexer": "ipython3",
   "version": "3.10.6"
  },
  "orig_nbformat": 4,
  "vscode": {
   "interpreter": {
    "hash": "7c9a3e6e88a87bf303803fbb0d8b6e30cfefc04a0de105873ce7538f55c4a2de"
   }
  }
 },
 "nbformat": 4,
 "nbformat_minor": 2
}
